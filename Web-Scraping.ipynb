{
  "metadata": {
    "language_info": {
      "codemirror_mode": {
        "name": "python",
        "version": 3
      },
      "file_extension": ".py",
      "mimetype": "text/x-python",
      "name": "python",
      "nbconvert_exporter": "python",
      "pygments_lexer": "ipython3",
      "version": "3.8"
    },
    "kernelspec": {
      "name": "python",
      "display_name": "Python (Pyodide)",
      "language": "python"
    }
  },
  "nbformat_minor": 4,
  "nbformat": 4,
  "cells": [
    {
      "cell_type": "code",
      "source": "from urllib.request import urlopen\nfrom bs4 import BeautifulSoup as soup\nimport re\nimport pandas as pd\nimport numpy as np\nimport matplotlib.pyplot as plt",
      "metadata": {},
      "execution_count": null,
      "outputs": []
    },
    {
      "cell_type": "code",
      "source": "httpObject = urlopen(\"https://www.flipkart.com/q/best-laptops-under-rs-50000\")\nwebdata = httpObject.read()\n#  display the content of the webdata\nprint(webdata)",
      "metadata": {},
      "execution_count": null,
      "outputs": []
    },
    {
      "cell_type": "code",
      "source": "soupdata = soup(webdata)\n# determine the type of an object\ntype(soupdata)",
      "metadata": {},
      "execution_count": null,
      "outputs": []
    },
    {
      "cell_type": "code",
      "source": "# The result of this search is a list of matching div elements, which is assigned to the variable containers.\ncontainers = soupdata.findAll(\"div\", {'class': '_2kHMtA'})\nprint(type(containers), len(containers))",
      "metadata": {},
      "execution_count": null,
      "outputs": []
    },
    {
      "cell_type": "code",
      "source": "containers[0] # data of first container",
      "metadata": {},
      "execution_count": null,
      "outputs": []
    },
    {
      "cell_type": "code",
      "source": "# The open function is used to open a file named 'laptop_info.csv' in binary write mode.\nf= open('laptop_info.csv','wb')\n\n# For each container in the loop, the find method is called to search for a specific div element within that container.\n# To locate an element based on the provided parameters, in this case, a div element with the class '_4rR01T'\n# Any leading or trailing whitespace is removed from the selected text using the strip method.\nf.write('ProductName,stars,Ratings,Reviews,CurrentPrice,MRP\\n'.encode())\nfor container in containers:\n    product = container.find('div', {'class': '_4rR01T'})\n    ProductName = product.text.split('-')[0].strip()\n    \n#print(ProductName)\n    \n    stars = container.find('div', {'class': '_3LWZlK'})\n    try:\n#   print(stars.text)\n        stars = stars.text\n    except:\n#   print(stars)\n        stars = 0\n    Rating = container.find('span',{'class':'_2_R_DZ'})\n    \n    try:\n        ratRev=re.findall('\\d+,*\\d+',Rating.text)\n        Ratings=ratRev[0].replace(',','')\n        Reviews=ratRev[1].replace(',','')\n    except:\n        Ratings=0\n        Reviews=0\n#     print(Ratings,Reviews)\n\n# The replace method is called on the retrieved text to replace any commas (,) with an empty string\n    CurrentPrice=container.find('div', {'class': '_30jeq3 _1_WHN1'}).text.replace(',','')\n#     print(CurrentPrice.text)\n    \n    mrp= container.find('div',{'class':'_3I9_wc _27UcVY'})\n    try:\n         MRP = mrp.text.replace(',','')\n    except:\n        MRP = 0\n    print(ProductName,stars,Ratings,Reviews,CurrentPrice,MRP)\n    f.write(f\"{ProductName},{stars},{Ratings},{Reviews},{CurrentPrice},{MRP}\\n\".encode())\n    print('\\n')\nf.close()",
      "metadata": {},
      "execution_count": null,
      "outputs": []
    },
    {
      "cell_type": "code",
      "source": "f= open('laptop_info.csv','wb')\nf.write('ProductName,stars,Ratings,Reviews,CurrentPrice,MRP\\n'.encode())\nfor container in containers:\n    product = container.find('div', {'class': '_4rR01T'})\n    ProductName = product.text.split('-')[0].strip()\n    \n#print(ProductName)\n    \n    stars = container.find('div', {'class': '_3LWZlK'})\n    try:\n#   print(stars.text)\n        stars = stars.text\n    except:\n#   print(stars)\n        stars = 0\n    Rating = container.find('span',{'class':'_2_R_DZ'})\n    \n    try:\n        ratRev=re.findall('\\d+,*\\d+',Rating.text)\n        Ratings=ratRev[0].replace(',','')\n        Reviews=ratRev[1].replace(',','')\n    except:\n        Ratings=0\n        Reviews=0\n#     print(Ratings,Reviews)\n    \n    CurrentPrice=container.find('div', {'class': '_30jeq3 _1_WHN1'}).text.replace(',','')\n#     print(CurrentPrice.text)\n    \n    mrp= container.find('div',{'class':'_3I9_wc _27UcVY'})\n    try:\n         MRP = mrp.text.replace(',','')\n    except:\n        MRP = 0\n    print(ProductName,stars,Ratings,Reviews,CurrentPrice,MRP)\n    f.write(f\"{ProductName},{stars},{Ratings},{Reviews},{CurrentPrice},{MRP}\\n\".encode())\n    print('\\n')\nf.close()",
      "metadata": {},
      "execution_count": null,
      "outputs": []
    },
    {
      "cell_type": "code",
      "source": "pd.read_csv('laptop_info.csv')",
      "metadata": {},
      "execution_count": null,
      "outputs": []
    },
    {
      "cell_type": "code",
      "source": "page_link = soupdata.findAll('a',{'class':'ge-49M'})\ndomain = 'https://www.flipkart.com/q/best-laptops-under-rs-50000?page='\nfor i in range(1,42):\n    print(domain+str(i))\n# domain + page_link[1].get('href')",
      "metadata": {},
      "execution_count": null,
      "outputs": []
    }
  ]
}